{
 "cells": [
  {
   "cell_type": "markdown",
   "id": "fb635965",
   "metadata": {},
   "source": [
    "Importing libraries and defining column names which are expected in target table (because we have multiple tables and no other unique identifier found)"
   ]
  },
  {
   "cell_type": "code",
   "execution_count": 239,
   "id": "02691a19",
   "metadata": {},
   "outputs": [],
   "source": [
    "import requests\n",
    "from bs4 import BeautifulSoup\n",
    "import pandas as pd\n",
    "\n",
    "target_column1 = \"% of Total Holdings\"\n",
    "target_column2 = \"% of Total Holding\"\n",
    "selected_df = None\n"
   ]
  },
  {
   "cell_type": "markdown",
   "id": "c116c7b5",
   "metadata": {},
   "source": [
    "Defining a function to extract fund name and fund ID from url"
   ]
  },
  {
   "cell_type": "code",
   "execution_count": 240,
   "id": "8e5c2758",
   "metadata": {},
   "outputs": [],
   "source": [
    "import re\n",
    "\n",
    "def extract_fund_details(url):\n",
    "    # Pattern to match the fund name and fund ID\n",
    "    pattern = r\"mutual-funds/(.*?)/portfolio-overview/(.*)\"\n",
    "    \n",
    "    # Extract fund name and fund ID using regex\n",
    "    match = re.search(pattern, url)\n",
    "    if match:\n",
    "        fund_name = match.group(1)\n",
    "        fund_id = match.group(2)\n",
    "        return fund_name, fund_id\n",
    "    else:\n",
    "        return None, None\n",
    "    "
   ]
  },
  {
   "cell_type": "markdown",
   "id": "60f9aa8b",
   "metadata": {},
   "source": [
    "##Defining a function to get the web scrapping data and extract relevant table"
   ]
  },
  {
   "cell_type": "code",
   "execution_count": 241,
   "id": "70b0b7f5",
   "metadata": {},
   "outputs": [],
   "source": [
    "def get_mf_data(tab_name, urls):\n",
    "\n",
    "    response_dfs = []\n",
    "\n",
    "    for url in urls:\n",
    "        fund_name, fund_id = extract_fund_details(url)\n",
    "        #print(f\"Fund name {fund_name}\")\n",
    "        response = requests.get(url)\n",
    "        \n",
    "        if response.status_code == 200:\n",
    "            soup = BeautifulSoup(response.text, 'html.parser')\n",
    "            tables = soup.find_all('table', class_='mctable1')\n",
    "            for idx, table in enumerate(tables):\n",
    "                data = []\n",
    "                rows = table.find_all('tr')\n",
    "                header = [ele.text.strip() for ele in rows[0].find_all('th')]\n",
    "                for row in rows[1:]:\n",
    "                    cols = row.find_all('td')\n",
    "                    cols = [ele.text.strip() for ele in cols]\n",
    "                    data.append(cols)\n",
    "                max_len = max(len(row) for row in data + [header])\n",
    "                data = [row + [''] * (max_len - len(row)) for row in data]\n",
    "                df = pd.DataFrame(data, columns=header)\n",
    "                df['Fund Name'] = fund_name\n",
    "                df['Fund Id'] = fund_id\n",
    "                df['MF ACF'] = \"Equity\"\n",
    "                df['MF Type'] = tab_name\n",
    "\n",
    "\n",
    "                if (target_column1 in df.columns or target_column2 in df.columns) and len(df.index) > 10:\n",
    "                    if response_dfs:\n",
    "                        if response_dfs[-1].columns.equals(df.columns):\n",
    "                            response_dfs.append(df)\n",
    "                            break\n",
    "                    else:\n",
    "                        response_dfs.append(df)\n",
    "                        break\n",
    "\n",
    "        else:\n",
    "            print('Failed to fetch data for URL:', url)\n",
    "\n",
    "    if response_dfs:\n",
    "        combined_df = pd.concat(response_dfs, ignore_index=True)\n",
    "    else:\n",
    "        print(\"No data found.\")\n",
    "    \n",
    "    file_path_to_Save  = \"C:\\\\Users\\\\Monil\\\\OneDrive\\\\Desktop\\\\Prabha Analytics\\\\Data\\\\\" + tab_name + \".csv\"\n",
    "    combined_df.to_csv(file_path_to_Save, index=False)\n",
    "    print(f\"File saved at {file_path_to_Save}\")\n",
    "    return(combined_df)\n"
   ]
  },
  {
   "cell_type": "markdown",
   "id": "c972f2c1",
   "metadata": {},
   "source": [
    "# Equity ACF (1/2)"
   ]
  },
  {
   "cell_type": "code",
   "execution_count": null,
   "id": "a41967fa",
   "metadata": {},
   "outputs": [
    {
     "name": "stdout",
     "output_type": "stream",
     "text": [
      "Tab Name: 01_value\n",
      "Failed to fetch data for URL: https://www.moneycontrol.com/mutual-funds/quantum-long-term-equity-value-fund-direct-plan-growth/portfolio-overview/MQU001\n",
      "File saved at C:\\Users\\Monil\\OneDrive\\Desktop\\Prabha Analytics\\Data\\01_value.csv\n",
      "Tab Name: 02_small_cap\n",
      "File saved at C:\\Users\\Monil\\OneDrive\\Desktop\\Prabha Analytics\\Data\\02_small_cap.csv\n",
      "Tab Name: 03_large_mid\n",
      "Failed to fetch data for URL: https://www.moneycontrol.com/mutual-funds/bajaj-finserv-large-and-mid-cap-fund-direct-plan-growth/portfolio-overview/MBFA048\n",
      "File saved at C:\\Users\\Monil\\OneDrive\\Desktop\\Prabha Analytics\\Data\\03_large_mid.csv\n",
      "Tab Name: 04_elss\n",
      "Failed to fetch data for URL: https://www.moneycontrol.com/mutual-funds/sundaram-long-term-micro-cap-tax-advantage-fund-series-iv-direct-plan-growth/portfolio-overview/MSN1290\n",
      "File saved at C:\\Users\\Monil\\OneDrive\\Desktop\\Prabha Analytics\\Data\\04_elss.csv\n",
      "Tab Name: 05_contra\n",
      "File saved at C:\\Users\\Monil\\OneDrive\\Desktop\\Prabha Analytics\\Data\\05_contra.csv\n",
      "Tab Name: 06_flexi\n",
      "Failed to fetch data for URL: https://www.moneycontrol.com/mutual-funds/bajaj-finserv-flexi-cap-fund-direct-plan-growth/portfolio-overview/MBFA004\n",
      "File saved at C:\\Users\\Monil\\OneDrive\\Desktop\\Prabha Analytics\\Data\\06_flexi.csv\n"
     ]
    }
   ],
   "source": [
    "file_path = \"C:\\\\Users\\\\Monil\\\\OneDrive\\\\Desktop\\\\MSDS\\\\05_DA_MSDS_460\\\\99_Project\\\\Data\\\\MF_Data\\\\equity_mf_url_part1.xlsx\"\n",
    "\n",
    "xl        = pd.ExcelFile(file_path)\n",
    "\n",
    "# Get the list of tab names\n",
    "tab_names = xl.sheet_names\n",
    "\n",
    "# Create a dictionary to store tab names and URLs\n",
    "tab_urls = {}\n",
    "\n",
    "# Iterate over each tab\n",
    "for tab_name in tab_names:\n",
    "    # Read the tab as a DataFrame\n",
    "    df = xl.parse(tab_name)\n",
    "    # Store the URLs from the 'Portfolio Link' column\n",
    "    urls = df['Portfolio Link'].tolist()\n",
    "    # Add the tab name and URLs to the dictionary\n",
    "    tab_urls[tab_name] = urls\n",
    "\n",
    "dfs = []\n",
    "\n",
    "for tab_name, urls in tab_urls.items():\n",
    "    print(f\"Tab Name: {tab_name}\")\n",
    "    # Assuming get_mf_data returns a DataFrame\n",
    "    df = get_mf_data(tab_name, urls)\n",
    "    dfs.append(df)\n",
    "\n",
    "# Concatenate all DataFrames in the list\n",
    "all_equity_mf_1 = pd.concat(dfs, ignore_index=True)\n",
    "all_equity_mf_1.to_csv(\"C:\\\\Users\\\\Monil\\\\OneDrive\\\\Desktop\\\\MSDS\\\\05_DA_MSDS_460\\\\99_Project\\\\Data\\\\MF_Data\\\\Results\\\\all_equity_mf_1.csv\", index = False)\n"
   ]
  },
  {
   "cell_type": "markdown",
   "id": "cd23a8b6",
   "metadata": {},
   "source": [
    "# Equity ACF (2/2)"
   ]
  },
  {
   "cell_type": "code",
   "execution_count": 246,
   "id": "cae05883",
   "metadata": {},
   "outputs": [
    {
     "name": "stdout",
     "output_type": "stream",
     "text": [
      "Tab Name: 07_multi\n",
      "File saved at C:\\Users\\Monil\\OneDrive\\Desktop\\Prabha Analytics\\Data\\07_multi.csv\n",
      "Tab Name: 08_mid\n",
      "File saved at C:\\Users\\Monil\\OneDrive\\Desktop\\Prabha Analytics\\Data\\08_mid.csv\n",
      "Tab Name: 09_div_yield\n",
      "File saved at C:\\Users\\Monil\\OneDrive\\Desktop\\Prabha Analytics\\Data\\09_div_yield.csv\n",
      "Tab Name: 10_focus\n",
      "File saved at C:\\Users\\Monil\\OneDrive\\Desktop\\Prabha Analytics\\Data\\10_focus.csv\n",
      "Tab Name: 11_large\n",
      "File saved at C:\\Users\\Monil\\OneDrive\\Desktop\\Prabha Analytics\\Data\\11_large.csv\n",
      "Tab Name: 12_sectoral\n",
      "File saved at C:\\Users\\Monil\\OneDrive\\Desktop\\Prabha Analytics\\Data\\12_sectoral.csv\n"
     ]
    }
   ],
   "source": [
    "file_path = \"C:\\\\Users\\\\Monil\\\\OneDrive\\\\Desktop\\\\MSDS\\\\05_DA_MSDS_460\\\\99_Project\\\\Data\\\\MF_Data\\\\equity_mf_url_part2.xlsx\"\n",
    "xl        = pd.ExcelFile(file_path)\n",
    "\n",
    "# Get the list of tab names\n",
    "tab_names = xl.sheet_names\n",
    "\n",
    "# Create a dictionary to store tab names and URLs\n",
    "tab_urls = {}\n",
    "\n",
    "# Iterate over each tab\n",
    "for tab_name in tab_names:\n",
    "    # Read the tab as a DataFrame\n",
    "    df = xl.parse(tab_name)\n",
    "    # Store the URLs from the 'Portfolio Link' column\n",
    "    urls = df['Portfolio Link'].tolist()\n",
    "    # Add the tab name and URLs to the dictionary\n",
    "    tab_urls[tab_name] = urls\n",
    "\n",
    "dfs = []\n",
    "\n",
    "for tab_name, urls in tab_urls.items():\n",
    "    print(f\"Tab Name: {tab_name}\")\n",
    "    # Assuming get_mf_data returns a DataFrame\n",
    "    df = get_mf_data(tab_name, urls)\n",
    "    dfs.append(df)\n",
    "\n",
    "# Concatenate all DataFrames in the list\n",
    "all_equity_mf_2 = pd.concat(dfs, ignore_index=True)\n",
    "all_equity_mf_2.to_csv(\"C:\\\\Users\\\\Monil\\\\OneDrive\\\\Desktop\\\\MSDS\\\\05_DA_MSDS_460\\\\99_Project\\\\Data\\\\MF_Data\\\\Results\\\\all_equity_mf_2.csv\", index = False)"
   ]
  },
  {
   "cell_type": "markdown",
   "id": "fa6d24fc",
   "metadata": {},
   "source": [
    "# Hybrid Fund Data"
   ]
  },
  {
   "cell_type": "code",
   "execution_count": 237,
   "id": "cb05bdca",
   "metadata": {},
   "outputs": [
    {
     "name": "stdout",
     "output_type": "stream",
     "text": [
      "Tab Name: 01_aggressive_hybrid\n",
      "File saved at C:\\Users\\Monil\\OneDrive\\Desktop\\Prabha Analytics\\Data\\01_aggressive_hybrid.csv\n",
      "Tab Name: 02_Equity_saving\n",
      "Failed to fetch data for URL: https://www.moneycontrol.com/mutual-funds/pgim-india-equity-savings-fund-direct-plan-growth/portfolio-overview/MDE551\n",
      "Failed to fetch data for URL: https://www.moneycontrol.com/mutual-funds/edelweiss-equity-savings-fund-direct-plan-growth/portfolio-overview/MJP305\n",
      "File saved at C:\\Users\\Monil\\OneDrive\\Desktop\\Prabha Analytics\\Data\\02_Equity_saving.csv\n",
      "Tab Name: 03_conservative_hybrid\n",
      "File saved at C:\\Users\\Monil\\OneDrive\\Desktop\\Prabha Analytics\\Data\\03_conservative_hybrid.csv\n",
      "Tab Name: 04_dynamic_AA\n",
      "Failed to fetch data for URL: https://www.moneycontrol.com/mutual-funds/bajaj-finserv-balanced-advantage-direct-plan-growth/portfolio-overview/MBFA043\n",
      "Failed to fetch data for URL: https://www.moneycontrol.com/mutual-funds/shriram-balanced-advantage-fund-direct-plan-growth/portfolio-overview/MSR015\n",
      "File saved at C:\\Users\\Monil\\OneDrive\\Desktop\\Prabha Analytics\\Data\\04_dynamic_AA.csv\n",
      "Tab Name: 05_arbitrage_fund\n",
      "Failed to fetch data for URL: https://www.moneycontrol.com/mutual-funds/bajaj-finserv-arbitrage-fund-direct-plan-growth/portfolio-overview/MBFA013\n",
      "Failed to fetch data for URL: https://www.moneycontrol.com/mutual-funds/lic-mf-arbitrage-fund-direct-plan-growth/portfolio-overview/MJB451\n",
      "File saved at C:\\Users\\Monil\\OneDrive\\Desktop\\Prabha Analytics\\Data\\05_arbitrage_fund.csv\n",
      "Tab Name: 06_multi_asset\n",
      "File saved at C:\\Users\\Monil\\OneDrive\\Desktop\\Prabha Analytics\\Data\\06_multi_asset.csv\n"
     ]
    }
   ],
   "source": [
    "file_path = \"C:\\\\Users\\\\Monil\\\\OneDrive\\\\Desktop\\\\MSDS\\\\05_DA_MSDS_460\\\\99_Project\\\\Data\\\\MF_Data\\\\hybrid_mf_url_v2.xlsx\"\n",
    "xl        = pd.ExcelFile(file_path)\n",
    "\n",
    "# Get the list of tab names\n",
    "tab_names = xl.sheet_names\n",
    "\n",
    "# Create a dictionary to store tab names and URLs\n",
    "tab_urls = {}\n",
    "\n",
    "# Iterate over each tab\n",
    "for tab_name in tab_names:\n",
    "    # Read the tab as a DataFrame\n",
    "    df = xl.parse(tab_name)\n",
    "    # Store the URLs from the 'Portfolio Link' column\n",
    "    urls = df['Portfolio Link'].tolist()\n",
    "    # Add the tab name and URLs to the dictionary\n",
    "    tab_urls[tab_name] = urls\n",
    "\n",
    "dfs = []\n",
    "\n",
    "for tab_name, urls in tab_urls.items():\n",
    "    print(f\"Tab Name: {tab_name}\")\n",
    "    # Assuming get_mf_data returns a DataFrame\n",
    "    df = get_mf_data(tab_name, urls)\n",
    "    dfs.append(df)\n",
    "\n",
    "# Concatenate all DataFrames in the list\n",
    "hybrid_equity_mf = pd.concat(dfs, ignore_index=True)\n",
    "hybrid_equity_mf.to_csv(\"C:\\\\Users\\\\Monil\\\\OneDrive\\\\Desktop\\\\MSDS\\\\05_DA_MSDS_460\\\\99_Project\\\\Data\\\\MF_Data\\\\Results\\\\all_hybrid_equity_mf.csv\", index = False)"
   ]
  }
 ],
 "metadata": {
  "kernelspec": {
   "display_name": "Python 3 (ipykernel)",
   "language": "python",
   "name": "python3"
  },
  "language_info": {
   "codemirror_mode": {
    "name": "ipython",
    "version": 3
   },
   "file_extension": ".py",
   "mimetype": "text/x-python",
   "name": "python",
   "nbconvert_exporter": "python",
   "pygments_lexer": "ipython3",
   "version": "3.10.9"
  }
 },
 "nbformat": 4,
 "nbformat_minor": 5
}
