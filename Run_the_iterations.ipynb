{
 "cells": [
  {
   "cell_type": "code",
   "execution_count": 1,
   "id": "ba9c07e7",
   "metadata": {},
   "outputs": [
    {
     "name": "stdout",
     "output_type": "stream",
     "text": [
      "Requirement already satisfied: nbformat in c:\\users\\monil\\anaconda3\\lib\\site-packages (5.7.0)\n",
      "Requirement already satisfied: IPython in c:\\users\\monil\\anaconda3\\lib\\site-packages (8.10.0)\n",
      "Requirement already satisfied: jsonschema>=2.6 in c:\\users\\monil\\anaconda3\\lib\\site-packages (from nbformat) (4.17.3)\n",
      "Requirement already satisfied: traitlets>=5.1 in c:\\users\\monil\\anaconda3\\lib\\site-packages (from nbformat) (5.7.1)\n",
      "Requirement already satisfied: jupyter-core in c:\\users\\monil\\anaconda3\\lib\\site-packages (from nbformat) (5.2.0)\n",
      "Requirement already satisfied: fastjsonschema in c:\\users\\monil\\anaconda3\\lib\\site-packages (from nbformat) (2.16.2)\n",
      "Requirement already satisfied: backcall in c:\\users\\monil\\anaconda3\\lib\\site-packages (from IPython) (0.2.0)\n",
      "Requirement already satisfied: matplotlib-inline in c:\\users\\monil\\anaconda3\\lib\\site-packages (from IPython) (0.1.6)\n",
      "Requirement already satisfied: stack-data in c:\\users\\monil\\anaconda3\\lib\\site-packages (from IPython) (0.2.0)\n",
      "Requirement already satisfied: colorama in c:\\users\\monil\\anaconda3\\lib\\site-packages (from IPython) (0.4.6)\n",
      "Requirement already satisfied: pygments>=2.4.0 in c:\\users\\monil\\anaconda3\\lib\\site-packages (from IPython) (2.11.2)\n",
      "Requirement already satisfied: pickleshare in c:\\users\\monil\\anaconda3\\lib\\site-packages (from IPython) (0.7.5)\n",
      "Requirement already satisfied: jedi>=0.16 in c:\\users\\monil\\anaconda3\\lib\\site-packages (from IPython) (0.18.1)\n",
      "Requirement already satisfied: decorator in c:\\users\\monil\\anaconda3\\lib\\site-packages (from IPython) (5.1.1)\n",
      "Requirement already satisfied: prompt-toolkit<3.1.0,>=3.0.30 in c:\\users\\monil\\anaconda3\\lib\\site-packages (from IPython) (3.0.36)\n",
      "Requirement already satisfied: parso<0.9.0,>=0.8.0 in c:\\users\\monil\\anaconda3\\lib\\site-packages (from jedi>=0.16->IPython) (0.8.3)\n",
      "Requirement already satisfied: pyrsistent!=0.17.0,!=0.17.1,!=0.17.2,>=0.14.0 in c:\\users\\monil\\anaconda3\\lib\\site-packages (from jsonschema>=2.6->nbformat) (0.18.0)\n",
      "Requirement already satisfied: attrs>=17.4.0 in c:\\users\\monil\\anaconda3\\lib\\site-packages (from jsonschema>=2.6->nbformat) (23.2.0)\n",
      "Requirement already satisfied: wcwidth in c:\\users\\monil\\anaconda3\\lib\\site-packages (from prompt-toolkit<3.1.0,>=3.0.30->IPython) (0.2.5)\n",
      "Requirement already satisfied: pywin32>=1.0 in c:\\users\\monil\\anaconda3\\lib\\site-packages (from jupyter-core->nbformat) (305.1)\n",
      "Requirement already satisfied: platformdirs>=2.5 in c:\\users\\monil\\anaconda3\\lib\\site-packages (from jupyter-core->nbformat) (2.5.2)\n",
      "Requirement already satisfied: asttokens in c:\\users\\monil\\anaconda3\\lib\\site-packages (from stack-data->IPython) (2.0.5)\n",
      "Requirement already satisfied: executing in c:\\users\\monil\\anaconda3\\lib\\site-packages (from stack-data->IPython) (0.8.3)\n",
      "Requirement already satisfied: pure-eval in c:\\users\\monil\\anaconda3\\lib\\site-packages (from stack-data->IPython) (0.2.2)\n",
      "Requirement already satisfied: six in c:\\users\\monil\\anaconda3\\lib\\site-packages (from asttokens->stack-data->IPython) (1.16.0)\n",
      "Requirement already satisfied: numpy in c:\\users\\monil\\anaconda3\\lib\\site-packages (1.23.5)\n",
      "Requirement already satisfied: ipython in c:\\users\\monil\\anaconda3\\lib\\site-packages (8.10.0)\n",
      "Requirement already satisfied: decorator in c:\\users\\monil\\anaconda3\\lib\\site-packages (from ipython) (5.1.1)\n",
      "Requirement already satisfied: matplotlib-inline in c:\\users\\monil\\anaconda3\\lib\\site-packages (from ipython) (0.1.6)\n",
      "Requirement already satisfied: pickleshare in c:\\users\\monil\\anaconda3\\lib\\site-packages (from ipython) (0.7.5)\n",
      "Requirement already satisfied: jedi>=0.16 in c:\\users\\monil\\anaconda3\\lib\\site-packages (from ipython) (0.18.1)\n",
      "Requirement already satisfied: backcall in c:\\users\\monil\\anaconda3\\lib\\site-packages (from ipython) (0.2.0)\n",
      "Requirement already satisfied: stack-data in c:\\users\\monil\\anaconda3\\lib\\site-packages (from ipython) (0.2.0)\n",
      "Requirement already satisfied: traitlets>=5 in c:\\users\\monil\\anaconda3\\lib\\site-packages (from ipython) (5.7.1)\n",
      "Requirement already satisfied: colorama in c:\\users\\monil\\anaconda3\\lib\\site-packages (from ipython) (0.4.6)\n",
      "Requirement already satisfied: prompt-toolkit<3.1.0,>=3.0.30 in c:\\users\\monil\\anaconda3\\lib\\site-packages (from ipython) (3.0.36)\n",
      "Requirement already satisfied: pygments>=2.4.0 in c:\\users\\monil\\anaconda3\\lib\\site-packages (from ipython) (2.11.2)\n",
      "Requirement already satisfied: parso<0.9.0,>=0.8.0 in c:\\users\\monil\\anaconda3\\lib\\site-packages (from jedi>=0.16->ipython) (0.8.3)\n",
      "Requirement already satisfied: wcwidth in c:\\users\\monil\\anaconda3\\lib\\site-packages (from prompt-toolkit<3.1.0,>=3.0.30->ipython) (0.2.5)\n",
      "Requirement already satisfied: executing in c:\\users\\monil\\anaconda3\\lib\\site-packages (from stack-data->ipython) (0.8.3)\n",
      "Requirement already satisfied: asttokens in c:\\users\\monil\\anaconda3\\lib\\site-packages (from stack-data->ipython) (2.0.5)\n",
      "Requirement already satisfied: pure-eval in c:\\users\\monil\\anaconda3\\lib\\site-packages (from stack-data->ipython) (0.2.2)\n",
      "Requirement already satisfied: six in c:\\users\\monil\\anaconda3\\lib\\site-packages (from asttokens->stack-data->ipython) (1.16.0)\n"
     ]
    }
   ],
   "source": [
    "!pip install nbformat IPython\n",
    "!pip install numpy\n",
    "!pip install ipython\n"
   ]
  },
  {
   "cell_type": "code",
   "execution_count": 2,
   "id": "ec1bc91b",
   "metadata": {},
   "outputs": [],
   "source": [
    "import nbformat\n",
    "from nbformat import read\n",
    "from IPython.core.interactiveshell import InteractiveShell\n",
    "\n",
    "def run_notebook(notebook_path):\n",
    "    # Read the notebook\n",
    "    with open(notebook_path, 'r', encoding='utf-8') as f:\n",
    "        nb = read(f, as_version=4)\n",
    "\n",
    "    # Create an instance of the InteractiveShell\n",
    "    shell = InteractiveShell.instance()\n",
    "\n",
    "    # Execute each cell\n",
    "    for cell in nb.cells:\n",
    "        if cell.cell_type == 'code':\n",
    "            shell.run_cell(cell.source)\n",
    "\n",
    "\n"
   ]
  },
  {
   "cell_type": "code",
   "execution_count": 3,
   "id": "e32e724c",
   "metadata": {},
   "outputs": [],
   "source": [
    "import pandas as pd\n",
    "\n",
    "all_mf_data_path              = './Data/MF_Data/Results/End_product/20240511_updated_eq_mf_data_v2.xlsx'\n",
    "mf_meta_data                  = pd.read_excel(all_mf_data_path, sheet_name= \"MF Meta\")\n",
    "all_funds                     = mf_meta_data['Fund Id'].tolist()"
   ]
  },
  {
   "cell_type": "code",
   "execution_count": 4,
   "id": "a2453be1",
   "metadata": {},
   "outputs": [],
   "source": [
    "import random\n",
    "import numpy as np\n",
    "\n",
    "def select_funds_and_allocate_weights(fund_ids, n=20):\n",
    "    selected_funds = random.sample(fund_ids, n)\n",
    "\n",
    "    # Generate random weights\n",
    "    weights = np.random.rand(n)\n",
    "    weights /= weights.sum()  # Normalize to sum to 1\n",
    "\n",
    "    return selected_funds, weights\n"
   ]
  },
  {
   "cell_type": "code",
   "execution_count": 20,
   "id": "37b3a136",
   "metadata": {},
   "outputs": [],
   "source": [
    "# Create a DataFrame\n",
    "user_selection_exp = pd.DataFrame({\n",
    "    'EXPERIMENT_NO': [],\n",
    "    'FUND_SELECTED': [],\n",
    "    'AMOUNT': []\n",
    "})\n",
    "\n",
    "experiment_results = pd.DataFrame({\n",
    "    'EXPERIMENT_NO': [],\n",
    "    'OVERLAP': [],\n",
    "    'ALPHA': [],\n",
    "    'HHI' : []\n",
    "})\n"
   ]
  },
  {
   "cell_type": "code",
   "execution_count": null,
   "id": "c347eaf5",
   "metadata": {
    "scrolled": true
   },
   "outputs": [],
   "source": [
    "\n",
    "run_notebook('Prepare_index_fund_data.ipynb')\n",
    "\n",
    "\n",
    "for exp_no in range(50):\n",
    "    print(\"Running exp no \", exp_no)\n",
    "    selected_funds, weights = select_funds_and_allocate_weights(all_funds)\n",
    "    \n",
    "    # Create a DataFrame\n",
    "    df = pd.DataFrame({\n",
    "        'EXPERIMENT_NO': exp_no,\n",
    "        'FUND_SELECTED': selected_funds,\n",
    "        'AMOUNT': weights*100000\n",
    "    })\n",
    "\n",
    "    user_selection_exp  = pd.concat([user_selection_exp, df], ignore_index=True)\n",
    "    df                  = df.drop(df.columns[0], axis=1)\n",
    "\n",
    "    # Save to CSV\n",
    "    df.to_csv('./Data/user_selection_v2.csv', index=False)\n",
    "\n",
    "    run_notebook('melt_portfolio.ipynb')\n",
    "    run_notebook('EROptimizerV2.ipynb')\n",
    "\n",
    "    exp_df = pd.DataFrame({\n",
    "        'EXPERIMENT_NO': [exp_no],\n",
    "        'OVERLAP': [round(new_overlap*100,2)],\n",
    "        'ALPHA': [round((new_er - user_er)*100,2)],\n",
    "        'HHI' : [round(new_hhi)]\n",
    "    })\n",
    "\n",
    "    experiment_results = pd.concat([experiment_results, exp_df], ignore_index=True)\n",
    "\n"
   ]
  },
  {
   "cell_type": "code",
   "execution_count": 28,
   "id": "26de139c",
   "metadata": {},
   "outputs": [
    {
     "name": "stdout",
     "output_type": "stream",
     "text": [
      "This is how sample output looks for any user : \n",
      "\n",
      "\n",
      "Guys here is what we propose \n",
      "\n",
      " {'ID11': '0.22%', 'ID12': '0.99%', 'ID15': '32.41%', 'ID18': '1.58%', 'ID20': '6.88%', 'ID24': '16.59%', 'ID26': '3.99%', 'ID27': '1.99%', 'ID30': '4.76%', 'ID34': '3.36%', 'ID36': '5.36%', 'ID4': '16.37%', 'ID6': '4.84%', 'ID9': '0.67%'}\n",
      "\n",
      "\n",
      "We bring in alpha of : 2.44 %\n",
      "Overlap with your existing portfolio would still be 61.18 %\n",
      "And your sectoral HHI had to move from 343 to 322\n"
     ]
    }
   ],
   "source": [
    "#Sample output \n",
    "\n",
    "print(\"This is how sample output looks for any user : \\n\\n\")\n",
    "\n",
    "# Convert proportions to percentages, filter out zero values, and add % sign\n",
    "inv_proportion = {k: f\"{round(v * 100, 2)}%\" for k, v in saved_proportions.items() if v != 0}\n",
    "\n",
    "# Print the final proportions\n",
    "print(\"Guys here is what we propose \\n\\n\", inv_proportion)\n",
    "\n",
    "new_overlap      = calc_overlap(index_df, user_df, saved_proportions)      \n",
    "new_er           = calc_expected_return(fund_er, saved_proportions)\n",
    "new_hhi          = get_sector_hhi(saved_proportions,index_df_sec)\n",
    "\n",
    "\n",
    "\n",
    "print(\"\\n\\nWe bring in alpha of :\", round((new_er - user_er)*100,2), \"%\")\n",
    "print(\"Overlap with your existing portfolio would still be\", round(new_overlap*100,2), \"%\")\n",
    "print(\"And your sectoral HHI had to move from\", round(target_hhi), \"to\",round(new_hhi))\n"
   ]
  },
  {
   "cell_type": "code",
   "execution_count": 23,
   "id": "41ba8925",
   "metadata": {},
   "outputs": [],
   "source": [
    "excel_output             = 'Experiment_results.xlsx'\n",
    "with pd.ExcelWriter(excel_output, engine='openpyxl') as writer:\n",
    "    user_selection_exp.to_excel(writer, sheet_name='Selected Funds', index=False)\n",
    "    experiment_results.to_excel(writer, sheet_name='Experiment Results', index=False)\n"
   ]
  },
  {
   "cell_type": "code",
   "execution_count": 25,
   "id": "322f6fb9",
   "metadata": {},
   "outputs": [
    {
     "data": {
      "image/png": "[encoded data removed]",
      "text/plain": [
       "<Figure size 1500x500 with 3 Axes>"
      ]
     },
     "metadata": {},
     "output_type": "display_data"
    }
   ],
   "source": [
    "import matplotlib.pyplot as plt\n",
    "\n",
    "# Sample data for the histograms\n",
    "data1 =  experiment_results['OVERLAP'].tolist()\n",
    "data2 =  experiment_results['ALPHA'].tolist()\n",
    "data3 =  experiment_results['HHI'].tolist()\n",
    "\n",
    "# Calculate means\n",
    "mean1 = np.mean(data1)\n",
    "mean2 = np.mean(data2)\n",
    "mean3 = np.mean(data3)\n",
    "\n",
    "\n",
    "# Create subplots with 1 row and 3 columns\n",
    "fig, axs = plt.subplots(1, 3, figsize=(15, 5), sharey=True)\n",
    "\n",
    "# Plot histograms\n",
    "axs[0].hist(data1, bins=10, edgecolor='black')\n",
    "axs[0].axvline(mean1, color='w', linestyle='dotted', linewidth=2)\n",
    "axs[0].set_title('Histogram for overlap')\n",
    "axs[0].set_xlabel('Overlap in percentage')\n",
    "axs[0].set_ylabel('Frequency')\n",
    "\n",
    "axs[1].hist(data2, bins=10, edgecolor='black')\n",
    "axs[1].axvline(mean2, color='w', linestyle='dotted', linewidth=2)\n",
    "axs[1].set_title('Histogram of alpha')\n",
    "axs[1].set_xlabel('Alpha in percentage')\n",
    "\n",
    "axs[2].hist(data3, bins=10, edgecolor='black')\n",
    "axs[2].axvline(mean3, color='w', linestyle='dotted', linewidth=2)\n",
    "axs[2].set_title('Histogram for HHI')\n",
    "axs[2].set_xlabel('Value of HHI')\n",
    "\n",
    "# Adjust layout\n",
    "plt.tight_layout()\n",
    "\n",
    "# Show the plot\n",
    "plt.show()\n"
   ]
  }
 ],
 "metadata": {
  "kernelspec": {
   "display_name": "Python 3 (ipykernel)",
   "language": "python",
   "name": "python3"
  },
  "language_info": {
   "codemirror_mode": {
    "name": "ipython",
    "version": 3
   },
   "file_extension": ".py",
   "mimetype": "text/x-python",
   "name": "python",
   "nbconvert_exporter": "python",
   "pygments_lexer": "ipython3",
   "version": "3.10.9"
  }
 },
 "nbformat": 4,
 "nbformat_minor": 5
}
