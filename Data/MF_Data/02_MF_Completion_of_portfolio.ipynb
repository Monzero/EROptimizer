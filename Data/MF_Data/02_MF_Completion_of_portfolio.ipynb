{
 "cells": [
  {
   "cell_type": "code",
   "execution_count": 56,
   "id": "d0a1058e",
   "metadata": {},
   "outputs": [],
   "source": [
    "import pandas as pd\n",
    "import numpy as np\n",
    "\n",
    "path_equity_mf = \"C:\\\\Users\\\\Monil\\\\OneDrive\\\\Desktop\\\\MSDS\\\\05_DA_MSDS_460\\\\99_Project\\\\Data\\\\MF_Data\\\\Results\\\\all_equity_related_mf_combined.csv\"\n"
   ]
  },
  {
   "cell_type": "code",
   "execution_count": 59,
   "id": "231f0e0d",
   "metadata": {},
   "outputs": [],
   "source": [
    "eq_df     = pd.read_csv(path_equity_mf)\n",
    "\n",
    "#eq_df = eq_df[eq_df['Fund Id']=='MAA183']\n"
   ]
  },
  {
   "cell_type": "code",
   "execution_count": 60,
   "id": "eaf3264f",
   "metadata": {},
   "outputs": [],
   "source": [
    "\n",
    "all_funds = eq_df['Fund Id'].unique()\n",
    "dfs = []\n",
    "\n",
    "for f in all_funds:\n",
    "    this_fund = eq_df[eq_df['Fund Id'] == f]\n",
    "    \n",
    "    total_holdings_sum = this_fund['% of Total Holdings'].str.replace('%', '').astype(float).sum()\n",
    "    remaining_percentage = 100 - total_holdings_sum\n",
    "    total_value = (this_fund['Value(Mn)'].astype(float).sum() * 100) / total_holdings_sum\n",
    "    total_value_non_eq = total_value * (100-total_holdings_sum) / 100\n",
    "\n",
    "    remaining_percentage_str = f\"{remaining_percentage:.2f}%\"\n",
    "\n",
    "    # Create a new row with the remaining percentage\n",
    "    remaining_row = pd.DataFrame({\n",
    "        'Stock Invested in': ['Non equity'],\n",
    "        'Sector': ['Non equity'],\n",
    "        'Sector Total': [np.nan],\n",
    "        'Value(Mn)': [total_value_non_eq],\n",
    "        '% of Total Holdings': [remaining_percentage_str],\n",
    "        '1M Change': [np.nan],\n",
    "        '1Y Highest Holding': [np.nan],\n",
    "        '1Y Lowest Holding': [np.nan],\n",
    "        'Quantity': [np.nan],\n",
    "        '1M Change in Qty': [np.nan],\n",
    "        'M-Cap': [np.nan],\n",
    "        'GroupName': [np.nan],\n",
    "        'Fund Name': this_fund['Fund Name'].unique(),\n",
    "        'Fund Id': this_fund['Fund Id'].unique(),\n",
    "        'MF ACF': this_fund['MF ACF'].unique(),\n",
    "        'MF Type': this_fund['MF Type'].unique()\n",
    "    })\n",
    "\n",
    "    # Concatenate the new row to this_fund\n",
    "    this_fund = pd.concat([this_fund, remaining_row], ignore_index=True)\n",
    "\n",
    "    dfs.append(this_fund)\n",
    "\n",
    "# Concatenate all the DataFrames in the list\n",
    "final_df = pd.concat(dfs, ignore_index=True)\n",
    "\n",
    "# Save the final DataFrame to a CSV file\n",
    "\n",
    "file_path_to_Save  = \"C:\\\\Users\\\\Monil\\\\OneDrive\\\\Desktop\\\\Prabha Analytics\\\\Data\\\\updated_eq_mf_data.csv\"\n",
    "    \n",
    "final_df.to_csv(file_path_to_Save, index=False)\n"
   ]
  },
  {
   "cell_type": "code",
   "execution_count": null,
   "id": "87dca82d",
   "metadata": {},
   "outputs": [],
   "source": []
  }
 ],
 "metadata": {
  "kernelspec": {
   "display_name": "Python 3 (ipykernel)",
   "language": "python",
   "name": "python3"
  },
  "language_info": {
   "codemirror_mode": {
    "name": "ipython",
    "version": 3
   },
   "file_extension": ".py",
   "mimetype": "text/x-python",
   "name": "python",
   "nbconvert_exporter": "python",
   "pygments_lexer": "ipython3",
   "version": "3.10.9"
  }
 },
 "nbformat": 4,
 "nbformat_minor": 5
}
